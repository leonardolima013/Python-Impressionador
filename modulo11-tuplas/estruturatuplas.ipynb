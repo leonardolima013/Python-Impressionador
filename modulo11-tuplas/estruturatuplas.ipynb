{
 "cells": [
  {
   "cell_type": "code",
   "execution_count": 1,
   "metadata": {},
   "outputs": [
    {
     "name": "stdout",
     "output_type": "stream",
     "text": [
      "('Leo', '13/10/2002', '29/11/2023', 2000, 'estagiario')\n"
     ]
    }
   ],
   "source": [
    "tupla = ('Leo', '13/10/2002', '29/11/2023', 2000, 'estagiario')\n",
    "print(tupla)"
   ]
  },
  {
   "cell_type": "code",
   "execution_count": 4,
   "metadata": {},
   "outputs": [
    {
     "name": "stdout",
     "output_type": "stream",
     "text": [
      "Leo\n",
      "13/10/2002\n",
      "29/11/2023\n"
     ]
    }
   ],
   "source": [
    "nome = tupla[0]\n",
    "aniversario = tupla[1]\n",
    "hoje = tupla[2]\n",
    "\n",
    "print(nome)\n",
    "print(aniversario)\n",
    "print(hoje)"
   ]
  }
 ],
 "metadata": {
  "kernelspec": {
   "display_name": "Python 3",
   "language": "python",
   "name": "python3"
  },
  "language_info": {
   "codemirror_mode": {
    "name": "ipython",
    "version": 3
   },
   "file_extension": ".py",
   "mimetype": "text/x-python",
   "name": "python",
   "nbconvert_exporter": "python",
   "pygments_lexer": "ipython3",
   "version": "3.10.11"
  }
 },
 "nbformat": 4,
 "nbformat_minor": 2
}
