{
 "cells": [
  {
   "cell_type": "code",
   "execution_count": 2,
   "metadata": {},
   "outputs": [
    {
     "name": "stdout",
     "output_type": "stream",
     "text": [
      "['ipad', 'iphone x', 'apple tv']\n",
      "['ipad', 'iphone11', 'apple tv']\n"
     ]
    }
   ],
   "source": [
    "#jeito errado\n",
    "lista = ['ipad','iphone x', 'apple tv']\n",
    "lista2 = lista\n",
    "\n",
    "\n",
    "print(lista2)\n",
    "lista[1] = 'iphone11'\n",
    "print(lista2)"
   ]
  },
  {
   "cell_type": "code",
   "execution_count": 3,
   "metadata": {},
   "outputs": [
    {
     "name": "stdout",
     "output_type": "stream",
     "text": [
      "['ipad', 'iphohe 11', 'apple tv']\n",
      "['ipad', 'iphone x', 'apple tv']\n"
     ]
    }
   ],
   "source": [
    "#jeito correto\n",
    "lista = ['ipad','iphone x', 'apple tv']\n",
    "lista2 = lista.copy()\n",
    "\n",
    "lista[1] = 'iphohe 11'\n",
    "\n",
    "print(lista)\n",
    "print(lista2)\n"
   ]
  }
 ],
 "metadata": {
  "kernelspec": {
   "display_name": "Python 3",
   "language": "python",
   "name": "python3"
  },
  "language_info": {
   "codemirror_mode": {
    "name": "ipython",
    "version": 3
   },
   "file_extension": ".py",
   "mimetype": "text/x-python",
   "name": "python",
   "nbconvert_exporter": "python",
   "pygments_lexer": "ipython3",
   "version": "3.10.11"
  }
 },
 "nbformat": 4,
 "nbformat_minor": 2
}
