{
 "cells": [
  {
   "cell_type": "code",
   "execution_count": 11,
   "metadata": {},
   "outputs": [
    {
     "name": "stdout",
     "output_type": "stream",
     "text": [
      "Vendas do produto teclado foram de 300 unidades\n"
     ]
    }
   ],
   "source": [
    "produtos = ['tv','celular','mouse','teclado','tablet']\n",
    "vendas = [1000,1500,350,270,900]\n",
    "\n",
    "vendas[3] = 300\n",
    "print(f'Vendas do produto {produtos[3]} foram de {vendas[3]} unidades')"
   ]
  },
  {
   "cell_type": "code",
   "execution_count": 17,
   "metadata": {},
   "outputs": [
    {
     "name": "stdout",
     "output_type": "stream",
     "text": [
      "O numero de vendas de mouse foi: 350 unidades\n"
     ]
    }
   ],
   "source": [
    "produtos = ['tv','celular','mouse','teclado','tablet']\n",
    "vendas = [1000,1500,350,270,900]\n",
    "\n",
    "i = produtos.index('mouse')\n",
    "print(f'O numero de vendas de mouse foi: {vendas[i]} unidades')"
   ]
  },
  {
   "cell_type": "code",
   "execution_count": 22,
   "metadata": {},
   "outputs": [
    {
     "name": "stdout",
     "output_type": "stream",
     "text": [
      "Produto: celular. Em estoque: 150\n"
     ]
    }
   ],
   "source": [
    "produtos = ['tv','celular','mouse','teclado','tablet']\n",
    "estoque = [100,150,200,250,300]\n",
    "\n",
    "produto_pesquisar = input('Digite o produto a ser verificado')\n",
    "if (produto_pesquisar in produtos) == False:\n",
    "    print('Insira um produto valido')\n",
    "else:\n",
    "    print(f'Produto: {produto_pesquisar}. Em estoque: {estoque[produtos.index(produto_pesquisar)]}')"
   ]
  }
 ],
 "metadata": {
  "kernelspec": {
   "display_name": "Python 3",
   "language": "python",
   "name": "python3"
  },
  "language_info": {
   "codemirror_mode": {
    "name": "ipython",
    "version": 3
   },
   "file_extension": ".py",
   "mimetype": "text/x-python",
   "name": "python",
   "nbconvert_exporter": "python",
   "pygments_lexer": "ipython3",
   "version": "3.10.11"
  }
 },
 "nbformat": 4,
 "nbformat_minor": 2
}
