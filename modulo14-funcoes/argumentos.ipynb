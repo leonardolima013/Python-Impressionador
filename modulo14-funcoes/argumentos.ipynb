{
 "cells": [
  {
   "cell_type": "code",
   "execution_count": 1,
   "metadata": {},
   "outputs": [
    {
     "name": "stdout",
     "output_type": "stream",
     "text": [
      "6\n"
     ]
    }
   ],
   "source": [
    "def soma(num1,num2,num3):\n",
    "    return num1+num2+num3\n",
    "\n",
    "\n",
    "x = soma(10,20,30)\n",
    "print(x)"
   ]
  },
  {
   "cell_type": "raw",
   "metadata": {},
   "source": [
    "- Vamos criar uma function com parâmetro\n",
    "\n",
    "Digamos que estamos criando um programa para categorizar os produtos de uma revendedora de bebidas.\n",
    "\n",
    "Cada produto tem um código. O tipo de produto é dado pelas 3 primeiras letras do código.\n",
    "\n",
    "Ex:<br>\n",
    "Vinho -> BEB12302<br>\n",
    "Cerveja -> BEB12043<br>\n",
    "Vodka -> BEB34501<br>\n",
    "\n",
    "Guaraná -> BSA11104<br>\n",
    "Coca -> BSA54301<br>\n",
    "Sprite -> BSA34012<br>\n",
    "Água -> BSA09871<br>\n",
    "\n",
    "Repare que bebidas não alcóolicas começam com BSA e bebidas alcoolicas começam com BEB.\n",
    "\n",
    "Crie um programa que analise uma lista de produtos e envie instruções para a equipe de estoque dizendo quais produtos devem ser enviados para a área de bebidas alcóolicas."
   ]
  },
  {
   "cell_type": "code",
   "execution_count": 5,
   "metadata": {},
   "outputs": [
    {
     "name": "stdout",
     "output_type": "stream",
     "text": [
      "Enviar beb46275 para sessão de bebidas alcoolicas\n",
      "Enviar BEB21365 para sessão de bebidas alcoolicas\n",
      "Enviar BEB31623 para sessão de bebidas alcoolicas\n",
      "Enviar BEB73344 para sessão de bebidas alcoolicas\n",
      "Enviar BEB80694 para sessão de bebidas alcoolicas\n",
      "Enviar BEB19495 para sessão de bebidas alcoolicas\n",
      "Enviar BEB97471 para sessão de bebidas alcoolicas\n",
      "Enviar BEB62362 para sessão de bebidas alcoolicas\n",
      "Enviar BEB85146 para sessão de bebidas alcoolicas\n",
      "Enviar BEB48898 para sessão de bebidas alcoolicas\n",
      "Enviar BEB79496 para sessão de bebidas alcoolicas\n",
      "Enviar BEB15385 para sessão de bebidas alcoolicas\n",
      "Enviar BEB24213 para sessão de bebidas alcoolicas\n",
      "Enviar BEB56262 para sessão de bebidas alcoolicas\n",
      "Enviar BEB75073 para sessão de bebidas alcoolicas\n"
     ]
    }
   ],
   "source": [
    "def alcoolico(bebida):\n",
    "    bebida = bebida.upper()\n",
    "    if 'BEB' in bebida:\n",
    "        return True\n",
    "    else:\n",
    "        return False\n",
    "\n",
    "produtos = ['beb46275','TFA23962','TFA64715','TFA69555','TFA56743','BSA45510','TFA44968','CAR75448','CAR23596','CAR13490','BEB21365','BEB31623','BSA62419','BEB73344','TFA20079','BEB80694','BSA11769','BEB19495','TFA14792','TFA78043','BSA33484','BEB97471','BEB62362','TFA27311','TFA17715','BEB85146','BEB48898','BEB79496','CAR38417','TFA19947','TFA58799','CAR94811','BSA59251','BEB15385','BEB24213','BEB56262','BSA96915','CAR53454','BEB75073']\n",
    "\n",
    "for produto in produtos:\n",
    "    if alcoolico(produto) == True:\n",
    "        print(f'Enviar {produto} para sessão de bebidas alcoolicas')\n",
    "\n",
    "            "
   ]
  }
 ],
 "metadata": {
  "kernelspec": {
   "display_name": "Python 3",
   "language": "python",
   "name": "python3"
  },
  "language_info": {
   "codemirror_mode": {
    "name": "ipython",
    "version": 3
   },
   "file_extension": ".py",
   "mimetype": "text/x-python",
   "name": "python",
   "nbconvert_exporter": "python",
   "pygments_lexer": "ipython3",
   "version": "3.10.11"
  }
 },
 "nbformat": 4,
 "nbformat_minor": 2
}
