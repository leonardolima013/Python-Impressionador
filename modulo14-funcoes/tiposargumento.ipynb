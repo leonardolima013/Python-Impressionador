{
 "cells": [
  {
   "cell_type": "code",
   "execution_count": 1,
   "metadata": {},
   "outputs": [
    {
     "name": "stdout",
     "output_type": "stream",
     "text": [
      "Enviar beb46275 para sessão de bebidas alcoolicas\n",
      "Enviar BSA45510 para sessão de bebidas não alcoolicas\n",
      "Enviar BEB21365 para sessão de bebidas alcoolicas\n",
      "Enviar BEB31623 para sessão de bebidas alcoolicas\n",
      "Enviar BSA62419 para sessão de bebidas não alcoolicas\n",
      "Enviar BEB73344 para sessão de bebidas alcoolicas\n",
      "Enviar BEB80694 para sessão de bebidas alcoolicas\n",
      "Enviar BSA11769 para sessão de bebidas não alcoolicas\n",
      "Enviar BEB19495 para sessão de bebidas alcoolicas\n",
      "Enviar BSA33484 para sessão de bebidas não alcoolicas\n",
      "Enviar BEB97471 para sessão de bebidas alcoolicas\n",
      "Enviar BEB62362 para sessão de bebidas alcoolicas\n",
      "Enviar BEB85146 para sessão de bebidas alcoolicas\n",
      "Enviar BEB48898 para sessão de bebidas alcoolicas\n",
      "Enviar BEB79496 para sessão de bebidas alcoolicas\n",
      "Enviar BSA59251 para sessão de bebidas não alcoolicas\n",
      "Enviar BEB15385 para sessão de bebidas alcoolicas\n",
      "Enviar BEB24213 para sessão de bebidas alcoolicas\n",
      "Enviar BEB56262 para sessão de bebidas alcoolicas\n",
      "Enviar BSA96915 para sessão de bebidas não alcoolicas\n",
      "Enviar BEB75073 para sessão de bebidas alcoolicas\n"
     ]
    }
   ],
   "source": [
    "def eh_da_categoria(bebida,cod_categoria):\n",
    "    bebida = bebida.upper()\n",
    "    if cod_categoria in bebida:\n",
    "        return True\n",
    "    else:\n",
    "        return False\n",
    "\n",
    "produtos = ['beb46275','TFA23962','TFA64715','TFA69555','TFA56743','BSA45510','TFA44968','CAR75448','CAR23596','CAR13490','BEB21365','BEB31623','BSA62419','BEB73344','TFA20079','BEB80694','BSA11769','BEB19495','TFA14792','TFA78043','BSA33484','BEB97471','BEB62362','TFA27311','TFA17715','BEB85146','BEB48898','BEB79496','CAR38417','TFA19947','TFA58799','CAR94811','BSA59251','BEB15385','BEB24213','BEB56262','BSA96915','CAR53454','BEB75073']\n",
    "\n",
    "for produto in produtos:\n",
    "    if eh_da_categoria(produto, 'BEB'):\n",
    "        print(f'Enviar {produto} para sessão de bebidas alcoolicas')\n",
    "    elif eh_da_categoria(produto, 'BSA'):\n",
    "        print(f'Enviar {produto} para sessão de bebidas não alcoolicas')\n",
    "\n"
   ]
  }
 ],
 "metadata": {
  "kernelspec": {
   "display_name": "Python 3",
   "language": "python",
   "name": "python3"
  },
  "language_info": {
   "codemirror_mode": {
    "name": "ipython",
    "version": 3
   },
   "file_extension": ".py",
   "mimetype": "text/x-python",
   "name": "python",
   "nbconvert_exporter": "python",
   "pygments_lexer": "ipython3",
   "version": "3.10.11"
  }
 },
 "nbformat": 4,
 "nbformat_minor": 2
}
