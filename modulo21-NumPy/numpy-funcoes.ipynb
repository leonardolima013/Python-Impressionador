{
 "cells": [
  {
   "cell_type": "code",
   "execution_count": 3,
   "metadata": {},
   "outputs": [
    {
     "name": "stdout",
     "output_type": "stream",
     "text": [
      "[22.  27.5 33.  38.5 44. ]\n"
     ]
    }
   ],
   "source": [
    "import numpy as np\n",
    "\n",
    "precos = np.array([20,25,30,35,40])\n",
    "\n",
    "#aumentar o preço em 10%\n",
    "\n",
    "novos_precos = precos * 1.1\n",
    "print(novos_precos)"
   ]
  },
  {
   "cell_type": "code",
   "execution_count": 8,
   "metadata": {},
   "outputs": [
    {
     "name": "stdout",
     "output_type": "stream",
     "text": [
      "O total de vendas do mês foi: R$ 1180\n",
      "A media de vendas do mês foi: R$ 236.0\n",
      "O produto mais vendido foi: R$ 300\n",
      "O produto menos vendido foi: R$ 200\n"
     ]
    }
   ],
   "source": [
    "vendas = np.array([200,220,250,210,300])\n",
    "\n",
    "soma_vendas = np.sum(vendas)\n",
    "media_vendas = np.mean(vendas)\n",
    "produto_mais_caro = np.max(vendas)\n",
    "produto_mais_barato = np.min(vendas)\n",
    "print(f'O total de vendas do mês foi: R$ {soma_vendas}')\n",
    "print(f'A media de vendas do mês foi: R$ {media_vendas}')\n",
    "print(f'O produto mais vendido foi: R$ {produto_mais_caro}')\n",
    "print(f'O produto menos vendido foi: R$ {produto_mais_barato}')"
   ]
  },
  {
   "cell_type": "code",
   "execution_count": 9,
   "metadata": {},
   "outputs": [
    {
     "name": "stdout",
     "output_type": "stream",
     "text": [
      "[200 210 220 250 300]\n"
     ]
    }
   ],
   "source": [
    "vendas = np.array([200,220,250,210,300])\n",
    "\n",
    "print(np.sort(vendas))"
   ]
  },
  {
   "cell_type": "code",
   "execution_count": 13,
   "metadata": {},
   "outputs": [
    {
     "name": "stdout",
     "output_type": "stream",
     "text": [
      "[ 50 200 450 800]\n",
      "1500\n"
     ]
    }
   ],
   "source": [
    "quantidades = np.array([10,20,30,40])\n",
    "precos = np.array([5,10,15,20])\n",
    "\n",
    "total_vendas = quantidades * precos\n",
    "print(total_vendas)\n",
    "\n",
    "print(np.sum(total_vendas))"
   ]
  },
  {
   "cell_type": "code",
   "execution_count": 15,
   "metadata": {},
   "outputs": [
    {
     "name": "stdout",
     "output_type": "stream",
     "text": [
      "1500\n"
     ]
    },
    {
     "ename": "",
     "evalue": "",
     "output_type": "error",
     "traceback": [
      "\u001b[1;31mThe Kernel crashed while executing code in the current cell or a previous cell. \n",
      "\u001b[1;31mPlease review the code in the cell(s) to identify a possible cause of the failure. \n",
      "\u001b[1;31mClick <a href='https://aka.ms/vscodeJupyterKernelCrash'>here</a> for more info. \n",
      "\u001b[1;31mView Jupyter <a href='command:jupyter.viewOutput'>log</a> for further details."
     ]
    }
   ],
   "source": [
    "quantidades = np.array([10,20,30,40])\n",
    "precos = np.array([5,10,15,20])\n",
    "\n",
    "print(np.dot(quantidades, precos))"
   ]
  }
 ],
 "metadata": {
  "kernelspec": {
   "display_name": "Python 3",
   "language": "python",
   "name": "python3"
  },
  "language_info": {
   "codemirror_mode": {
    "name": "ipython",
    "version": 3
   },
   "file_extension": ".py",
   "mimetype": "text/x-python",
   "name": "python",
   "nbconvert_exporter": "python",
   "pygments_lexer": "ipython3",
   "version": "3.10.11"
  }
 },
 "nbformat": 4,
 "nbformat_minor": 2
}
