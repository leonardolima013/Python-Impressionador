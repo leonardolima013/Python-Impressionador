{
 "cells": [
  {
   "cell_type": "markdown",
   "metadata": {},
   "source": [
    "## Exercício\n",
    "\n",
    "Você é um analista de dados em uma empresa e conduziu uma pesquisa de satisfação do cliente durante uma semana. Você perguntou as clientes para classificar seu nível de satisfação com o serviço ao cliente em uma escala de 0 a 10. Você coletou respostas de 30 clientes por dia durante 7 dias, resultando em um total de 210 respostas.\n",
    "\n",
    "No entanto, os dados que você recebeu estão em um array 1D de 210 elementos. Reorganize os dados de forma a ter as respostas por dia e faça uma análise descritiva básica, calculando a média geral de satisfação e a média diária."
   ]
  },
  {
   "cell_type": "code",
   "execution_count": 20,
   "metadata": {
    "ExecuteTime": {
     "end_time": "2023-07-03T12:12:12.700234800Z",
     "start_time": "2023-07-03T12:12:12.677347900Z"
    },
    "collapsed": false,
    "jupyter": {
     "outputs_hidden": false
    }
   },
   "outputs": [
    {
     "name": "stdout",
     "output_type": "stream",
     "text": [
      "A média geral de satisfação foi? 5.15\n",
      "média dia 1: 5.50\n",
      "média dia 2: 5.07\n",
      "média dia 3: 5.37\n",
      "média dia 4: 5.10\n",
      "média dia 5: 4.97\n",
      "média dia 6: 5.00\n",
      "média dia 7: 5.03\n",
      "\n"
     ]
    }
   ],
   "source": [
    "import numpy as np\n",
    "\n",
    "# considere os seguintes dados aleatórios como início\n",
    "rng = np.random.default_rng(seed=42)\n",
    "respostas = rng.integers(low=0, high=10, size=210, endpoint=True)\n",
    "\n",
    "respostas_reshaped = np.reshape(respostas, (7,-1))\n",
    "#print(respostas_reshaped)\n",
    "medias_diarias = np.mean(respostas_reshaped, axis=1)\n",
    "media_geral = np.mean(medias_diarias)\n",
    "\n",
    "print(f'A média geral de satisfação foi? {media_geral:.2f}\\nmédia dia 1: {medias_diarias[0]:.2f}\\nmédia dia 2: {medias_diarias[1]:.2f}\\nmédia dia 3: {medias_diarias[2]:.2f}\\nmédia dia 4: {medias_diarias[3]:.2f}\\nmédia dia 5: {medias_diarias[4]:.2f}\\nmédia dia 6: {medias_diarias[5]:.2f}\\nmédia dia 7: {medias_diarias[6]:.2f}\\n')"
   ]
  },
  {
   "cell_type": "code",
   "execution_count": null,
   "metadata": {},
   "outputs": [],
   "source": []
  },
  {
   "cell_type": "markdown",
   "metadata": {},
   "source": [
    "O seguinte modelo pode ser pensado para os dados recebidos:\n",
    "\n",
    "    dia 1 cliente 1, dia 1 cliente 2, dia 1 cliente 3, ...\n",
    "    ... dia 7 cliente 28, dia 7 cliente 29, dia 7 cliente 30\n",
    "    \n",
    "Assim, podemos fazer um reshape:"
   ]
  }
 ],
 "metadata": {
  "kernelspec": {
   "display_name": "Python 3 (ipykernel)",
   "language": "python",
   "name": "python3"
  },
  "language_info": {
   "codemirror_mode": {
    "name": "ipython",
    "version": 3
   },
   "file_extension": ".py",
   "mimetype": "text/x-python",
   "name": "python",
   "nbconvert_exporter": "python",
   "pygments_lexer": "ipython3",
   "version": "3.10.11"
  }
 },
 "nbformat": 4,
 "nbformat_minor": 4
}
