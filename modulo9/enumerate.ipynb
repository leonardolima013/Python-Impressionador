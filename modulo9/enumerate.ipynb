{
 "cells": [
  {
   "cell_type": "code",
   "execution_count": 3,
   "metadata": {},
   "outputs": [
    {
     "name": "stdout",
     "output_type": "stream",
     "text": [
      "Maria\n",
      "José\n",
      "Antônio\n",
      "João\n",
      "Francisco\n",
      "Ana\n",
      "Luiz\n",
      "Paulo\n",
      "Carlos\n",
      "Manoel\n",
      "Pedro\n",
      "Francisca\n",
      "Marcos\n",
      "Raimundo\n",
      "Sebastião\n",
      "Antônia\n",
      "Marcelo\n",
      "Jorge\n",
      "Márcia\n",
      "Geraldo\n",
      "Adriana\n",
      "Sandra\n",
      "Luis\n"
     ]
    }
   ],
   "source": [
    "funcionarios = ['Maria', 'José', 'Antônio', 'João', 'Francisco', 'Ana', 'Luiz', 'Paulo', 'Carlos', 'Manoel', 'Pedro', 'Francisca', 'Marcos', 'Raimundo', 'Sebastião', 'Antônia', 'Marcelo', 'Jorge', 'Márcia', 'Geraldo', 'Adriana', 'Sandra', 'Luis']\n",
    "for x in funcionarios:\n",
    "    print(x)"
   ]
  },
  {
   "cell_type": "code",
   "execution_count": 5,
   "metadata": {},
   "outputs": [
    {
     "name": "stdout",
     "output_type": "stream",
     "text": [
      "0 é o funcionardio Maria\n",
      "1 é o funcionardio José\n",
      "2 é o funcionardio Antônio\n",
      "3 é o funcionardio João\n",
      "4 é o funcionardio Francisco\n",
      "5 é o funcionardio Ana\n",
      "6 é o funcionardio Luiz\n",
      "7 é o funcionardio Paulo\n",
      "8 é o funcionardio Carlos\n",
      "9 é o funcionardio Manoel\n",
      "10 é o funcionardio Pedro\n",
      "11 é o funcionardio Francisca\n",
      "12 é o funcionardio Marcos\n",
      "13 é o funcionardio Raimundo\n",
      "14 é o funcionardio Sebastião\n",
      "15 é o funcionardio Antônia\n",
      "16 é o funcionardio Marcelo\n",
      "17 é o funcionardio Jorge\n",
      "18 é o funcionardio Márcia\n",
      "19 é o funcionardio Geraldo\n",
      "20 é o funcionardio Adriana\n",
      "21 é o funcionardio Sandra\n",
      "22 é o funcionardio Luis\n"
     ]
    }
   ],
   "source": [
    "for x, funcionario in enumerate(funcionarios):\n",
    "    print(f'{x} é o funcionardio {funcionario}')"
   ]
  },
  {
   "cell_type": "code",
   "execution_count": 8,
   "metadata": {},
   "outputs": [
    {
     "name": "stdout",
     "output_type": "stream",
     "text": [
      "dolly a baixo do estoque, apenas 20 disponiveis.\n",
      "red bull a baixo do estoque, apenas 23 disponiveis.\n"
     ]
    }
   ],
   "source": [
    "estoque = [1200, 300, 800, 1500, 1900, 2750, 400, 20, 23, 70, 90, 80, 1100, 999, 900, 880, 870, 50, 1111, 120, 300, 450, 800]\n",
    "produtos = ['coca', 'pepsi', 'guarana', 'skol', 'brahma', 'agua', 'del valle', 'dolly', 'red bull', 'cachaça', 'vinho tinto', 'vodka', 'vinho branco', 'tequila', 'champagne', 'gin', 'guaracamp', 'matte', 'leite de castanha', 'leite', 'jurupinga', 'sprite', 'fanta']\n",
    "nivel_minimo = 50\n",
    "\n",
    "for i, qtde in enumerate(estoque):\n",
    "    if qtde < nivel_minimo:\n",
    "        print(f'{produtos[i]} a baixo do estoque, apenas {qtde} disponiveis.')"
   ]
  }
 ],
 "metadata": {
  "kernelspec": {
   "display_name": "Python 3",
   "language": "python",
   "name": "python3"
  },
  "language_info": {
   "codemirror_mode": {
    "name": "ipython",
    "version": 3
   },
   "file_extension": ".py",
   "mimetype": "text/x-python",
   "name": "python",
   "nbconvert_exporter": "python",
   "pygments_lexer": "ipython3",
   "version": "3.10.11"
  }
 },
 "nbformat": 4,
 "nbformat_minor": 2
}
