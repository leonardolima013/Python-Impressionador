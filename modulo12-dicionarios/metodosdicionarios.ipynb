{
 "cells": [
  {
   "cell_type": "code",
   "execution_count": 3,
   "metadata": {},
   "outputs": [],
   "source": [
    "vendas_tecnologia = {'notebook asus': 2450, 'iphone': 15000, 'samsung galaxy': 12000, 'tv samsung': 10000, 'ps5': 14300, 'tablet': 1720, 'notebook dell': 17000, 'ipad': 1000, 'tv philco': 2500, 'notebook hp': 1000}\n"
   ]
  },
  {
   "cell_type": "code",
   "execution_count": 5,
   "metadata": {},
   "outputs": [
    {
     "name": "stdout",
     "output_type": "stream",
     "text": [
      "dict_items([('notebook asus', 2450), ('iphone', 15000), ('samsung galaxy', 12000), ('tv samsung', 10000), ('ps5', 14300), ('tablet', 1720), ('notebook dell', 17000), ('ipad', 1000), ('tv philco', 2500), ('notebook hp', 1000)])\n"
     ]
    }
   ],
   "source": [
    "itens_dicionario = vendas_tecnologia.items()\n",
    "print(itens_dicionario)"
   ]
  },
  {
   "cell_type": "code",
   "execution_count": 10,
   "metadata": {},
   "outputs": [
    {
     "name": "stdout",
     "output_type": "stream",
     "text": [
      "notebook asus: 2450 unidedes\n",
      "iphone: 15000 unidedes\n",
      "samsung galaxy: 12000 unidedes\n",
      "tv samsung: 10000 unidedes\n",
      "ps5: 14300 unidedes\n",
      "tablet: 1720 unidedes\n",
      "notebook dell: 17000 unidedes\n",
      "ipad: 1000 unidedes\n",
      "tv philco: 2500 unidedes\n",
      "notebook hp: 1000 unidedes\n"
     ]
    }
   ],
   "source": [
    "for item, qtde in vendas_tecnologia.items():\n",
    "    print(f'{item}: {qtde} unidedes')"
   ]
  },
  {
   "cell_type": "code",
   "execution_count": 12,
   "metadata": {},
   "outputs": [
    {
     "name": "stdout",
     "output_type": "stream",
     "text": [
      "iphone: 15000 unidedes\n",
      "samsung galaxy: 12000 unidedes\n",
      "tv samsung: 10000 unidedes\n",
      "ps5: 14300 unidedes\n",
      "notebook dell: 17000 unidedes\n"
     ]
    }
   ],
   "source": [
    "for item, qtde in vendas_tecnologia.items():\n",
    "    if vendas_tecnologia[item] > 5000:\n",
    "        print(f'{item}: {qtde} unidedes')"
   ]
  },
  {
   "cell_type": "code",
   "execution_count": null,
   "metadata": {},
   "outputs": [],
   "source": []
  }
 ],
 "metadata": {
  "kernelspec": {
   "display_name": "Python 3",
   "language": "python",
   "name": "python3"
  },
  "language_info": {
   "codemirror_mode": {
    "name": "ipython",
    "version": 3
   },
   "file_extension": ".py",
   "mimetype": "text/x-python",
   "name": "python",
   "nbconvert_exporter": "python",
   "pygments_lexer": "ipython3",
   "version": "3.10.11"
  }
 },
 "nbformat": 4,
 "nbformat_minor": 2
}
