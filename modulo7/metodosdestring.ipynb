{
 "cells": [
  {
   "cell_type": "code",
   "execution_count": 3,
   "metadata": {},
   "outputs": [
    {
     "name": "stdout",
     "output_type": "stream",
     "text": [
      "leonardo\n",
      "Leonardo\n"
     ]
    }
   ],
   "source": [
    "texto = 'leonardo'\n",
    "print(texto)\n",
    "texto = texto.capitalize() \n",
    "print(texto)\n",
    "#Ou apenas print(texto.capitalize())"
   ]
  },
  {
   "cell_type": "code",
   "execution_count": 6,
   "metadata": {},
   "outputs": [
    {
     "name": "stdout",
     "output_type": "stream",
     "text": [
      "Leonardo\n",
      "leonardo\n"
     ]
    }
   ],
   "source": [
    "texto = 'Leonardo'\n",
    "print(texto)\n",
    "print(texto.casefold())"
   ]
  },
  {
   "cell_type": "code",
   "execution_count": 11,
   "metadata": {},
   "outputs": [
    {
     "name": "stdout",
     "output_type": "stream",
     "text": [
      "2\n",
      "A letra a aparece 2 no texto\n"
     ]
    }
   ],
   "source": [
    "texto = 'leonardobl2002@gmail.com'\n",
    "print(texto.count('a'))\n",
    "print(f'A letra a aparece {texto.count(\"a\")} no texto')"
   ]
  },
  {
   "cell_type": "code",
   "execution_count": 13,
   "metadata": {},
   "outputs": [
    {
     "name": "stdout",
     "output_type": "stream",
     "text": [
      "True\n",
      "O servidor do email é Gmail\n"
     ]
    }
   ],
   "source": [
    "texto = 'leonardobl2002@gmail.com'\n",
    "print(texto.endswith('gmail.com'))\n",
    "\n",
    "if texto.endswith('gmail.com') == True:\n",
    "    print('O servidor do email é Gmail')"
   ]
  },
  {
   "cell_type": "code",
   "execution_count": 30,
   "metadata": {},
   "outputs": [
    {
     "name": "stdout",
     "output_type": "stream",
     "text": [
      "True\n"
     ]
    }
   ],
   "source": [
    "texto = 'leonardobl2002@gmail.com'\n",
    "print(texto.startswith('leonardo'))\n",
    "\n"
   ]
  },
  {
   "cell_type": "code",
   "execution_count": 17,
   "metadata": {},
   "outputs": [
    {
     "name": "stdout",
     "output_type": "stream",
     "text": [
      "9\n"
     ]
    }
   ],
   "source": [
    "texto = 'leonardob@l2002@gmail.com'\n",
    "\n",
    "print(texto.find('@'))"
   ]
  },
  {
   "cell_type": "code",
   "execution_count": 21,
   "metadata": {},
   "outputs": [
    {
     "name": "stdout",
     "output_type": "stream",
     "text": [
      "True\n",
      "True\n",
      "True\n"
     ]
    }
   ],
   "source": [
    "texto = 'Leo'\n",
    "numero = '123'\n",
    "usuario = 'Leo123'\n",
    "print(texto.isalpha())\n",
    "print(numero.isalnum())\n",
    "print(usuario.isalnum())"
   ]
  },
  {
   "cell_type": "code",
   "execution_count": 39,
   "metadata": {},
   "outputs": [
    {
     "name": "stdout",
     "output_type": "stream",
     "text": [
      "100050\n"
     ]
    }
   ],
   "source": [
    "texto = '1000,50'\n",
    "texto = texto.replace(',','.')\n",
    "print(texto)"
   ]
  },
  {
   "cell_type": "code",
   "execution_count": 24,
   "metadata": {},
   "outputs": [
    {
     "name": "stdout",
     "output_type": "stream",
     "text": [
      "['leonardobl2002', 'gmail.com']\n"
     ]
    }
   ],
   "source": [
    "texto = 'leonardobl2002@gmail.com'\n",
    "texto = texto.split('@')\n",
    "print(texto)"
   ]
  },
  {
   "cell_type": "code",
   "execution_count": 28,
   "metadata": {},
   "outputs": [
    {
     "name": "stdout",
     "output_type": "stream",
     "text": [
      "['Ola, bom dia', 'venho por meio deste email informar o faturamento da loja no dia de hoje.', 'o faturamento foi de R$2500,00']\n"
     ]
    }
   ],
   "source": [
    "texto = '''Ola, bom dia\n",
    "venho por meio deste email informar o faturamento da loja no dia de hoje.\n",
    "o faturamento foi de R$2500,00'''\n",
    "texto = texto.splitlines()\n",
    "print(texto)"
   ]
  },
  {
   "cell_type": "code",
   "execution_count": 34,
   "metadata": {},
   "outputs": [
    {
     "name": "stdout",
     "output_type": "stream",
     "text": [
      "   BEB12345   \n",
      "BEB12345\n"
     ]
    }
   ],
   "source": [
    "texto = '   BEB12345   '\n",
    "print(texto)\n",
    "print(texto.strip())"
   ]
  },
  {
   "cell_type": "code",
   "execution_count": 35,
   "metadata": {},
   "outputs": [
    {
     "name": "stdout",
     "output_type": "stream",
     "text": [
      "   beb12345   \n",
      "   BEB12345   \n"
     ]
    }
   ],
   "source": [
    "texto = '   beb12345   '\n",
    "print(texto)\n",
    "print(texto.upper())\n"
   ]
  },
  {
   "cell_type": "code",
   "execution_count": 38,
   "metadata": {},
   "outputs": [
    {
     "name": "stdout",
     "output_type": "stream",
     "text": [
      "leonardo barbosa lima\n",
      "Leonardo Barbosa Lima\n"
     ]
    }
   ],
   "source": [
    "texto = 'leonardo barbosa lima'\n",
    "print(texto)\n",
    "print(texto.title())"
   ]
  }
 ],
 "metadata": {
  "kernelspec": {
   "display_name": "Python 3",
   "language": "python",
   "name": "python3"
  },
  "language_info": {
   "codemirror_mode": {
    "name": "ipython",
    "version": 3
   },
   "file_extension": ".py",
   "mimetype": "text/x-python",
   "name": "python",
   "nbconvert_exporter": "python",
   "pygments_lexer": "ipython3",
   "version": "3.10.11"
  }
 },
 "nbformat": 4,
 "nbformat_minor": 2
}
