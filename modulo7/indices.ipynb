{
 "cells": [
  {
   "cell_type": "code",
   "execution_count": 9,
   "metadata": {},
   "outputs": [
    {
     "name": "stdout",
     "output_type": "stream",
     "text": [
      "n\n",
      "13\n"
     ]
    }
   ],
   "source": [
    "email = 'leonardobl2002@gmail.com'\n",
    "nome = 'Leonardo Lima'\n",
    "\n",
    "print(nome[3])\n",
    "print(len(nome))"
   ]
  },
  {
   "cell_type": "code",
   "execution_count": 12,
   "metadata": {},
   "outputs": [
    {
     "name": "stdout",
     "output_type": "stream",
     "text": [
      "L\n",
      "L\n",
      "a\n"
     ]
    }
   ],
   "source": [
    "email = 'leonardobl2002@gmail.com'\n",
    "nome = 'Leonardo Lima'\n",
    "\n",
    "print(nome[0])\n",
    "print(nome[-13])\n",
    "print(nome[-1])"
   ]
  },
  {
   "cell_type": "code",
   "execution_count": 35,
   "metadata": {},
   "outputs": [
    {
     "name": "stdout",
     "output_type": "stream",
     "text": [
      "Leo\n",
      "Lima\n",
      "gmail\n",
      "2002\n",
      "leonardo\n"
     ]
    }
   ],
   "source": [
    "email = 'leonardobl2002@gmail.com'\n",
    "nome = 'Loneardo Lima'\n",
    "\n",
    "print(nome[:3])\n",
    "print (nome[9:])\n",
    "print(email[-9:-4])\n",
    "print(email[10:14])\n",
    "print(email[:8])"
   ]
  }
 ],
 "metadata": {
  "kernelspec": {
   "display_name": "Python 3",
   "language": "python",
   "name": "python3"
  },
  "language_info": {
   "codemirror_mode": {
    "name": "ipython",
    "version": 3
   },
   "file_extension": ".py",
   "mimetype": "text/x-python",
   "name": "python",
   "nbconvert_exporter": "python",
   "pygments_lexer": "ipython3",
   "version": "3.10.11"
  }
 },
 "nbformat": 4,
 "nbformat_minor": 2
}
