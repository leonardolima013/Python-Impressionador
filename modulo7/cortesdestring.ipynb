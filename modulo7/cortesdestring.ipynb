{
 "cells": [
  {
   "cell_type": "code",
   "execution_count": 6,
   "metadata": {},
   "outputs": [
    {
     "name": "stdout",
     "output_type": "stream",
     "text": [
      "25\n",
      "27\n",
      "29\n"
     ]
    }
   ],
   "source": [
    "precos = \"Jan: 25, Fev: 27, Mar: 29\"\n",
    "\n",
    "precos_jan = precos[5:7]\n",
    "precos_fev = precos[14:16]\n",
    "precos_mar = precos[-2:]\n",
    "\n",
    "print(precos_jan)\n",
    "print(precos_fev)\n",
    "print(precos_mar)"
   ]
  },
  {
   "cell_type": "code",
   "execution_count": 9,
   "metadata": {},
   "outputs": [
    {
     "name": "stdout",
     "output_type": "stream",
     "text": [
      "9743254321\n"
     ]
    }
   ],
   "source": [
    "codigo = \"1.2.3.4,5,2.3.4,7,9\"\n",
    "\n",
    "pedaco_cod = codigo[::2]\n",
    "pedaco_cod = codigo[::-2]\n",
    "print(pedaco_cod)"
   ]
  }
 ],
 "metadata": {
  "kernelspec": {
   "display_name": "Python 3",
   "language": "python",
   "name": "python3"
  },
  "language_info": {
   "codemirror_mode": {
    "name": "ipython",
    "version": 3
   },
   "file_extension": ".py",
   "mimetype": "text/x-python",
   "name": "python",
   "nbconvert_exporter": "python",
   "pygments_lexer": "ipython3",
   "version": "3.10.11"
  }
 },
 "nbformat": 4,
 "nbformat_minor": 2
}
