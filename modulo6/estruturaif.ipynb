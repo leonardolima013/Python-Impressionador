{
 "cells": [
  {
   "cell_type": "code",
   "execution_count": 2,
   "metadata": {},
   "outputs": [
    {
     "name": "stdout",
     "output_type": "stream",
     "text": [
      "Não batemos a meta\n"
     ]
    }
   ],
   "source": [
    "iphone_meta = 50000\n",
    "iphone_vendas = 65300\n",
    "\n",
    "if iphone_vendas > iphone_meta:\n",
    "    print(f'Batemos a meta do mes, vendemos {iphone_vendas}')\n"
   ]
  },
  {
   "cell_type": "code",
   "execution_count": 4,
   "metadata": {},
   "outputs": [
    {
     "name": "stdout",
     "output_type": "stream",
     "text": [
      "Não batemos a meta, vendemos 65300, a meta era de 70000\n"
     ]
    }
   ],
   "source": [
    "iphone_meta = 50000\n",
    "iphone_vendas = 65300\n",
    "\n",
    "if iphone_vendas >= iphone_meta:\n",
    "    print(f'Batemos a meta do mes, vendemos {iphone_vendas}')\n",
    "\n",
    "else:\n",
    "    print(f'Não batemos a meta, vendemos {iphone_vendas}, a meta era de {iphone_meta}')"
   ]
  }
 ],
 "metadata": {
  "kernelspec": {
   "display_name": "Python 3",
   "language": "python",
   "name": "python3"
  },
  "language_info": {
   "codemirror_mode": {
    "name": "ipython",
    "version": 3
   },
   "file_extension": ".py",
   "mimetype": "text/x-python",
   "name": "python",
   "nbconvert_exporter": "python",
   "pygments_lexer": "ipython3",
   "version": "3.10.11"
  }
 },
 "nbformat": 4,
 "nbformat_minor": 2
}
