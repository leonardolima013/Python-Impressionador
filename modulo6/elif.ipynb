{
 "cells": [
  {
   "cell_type": "code",
   "execution_count": 9,
   "metadata": {},
   "outputs": [
    {
     "name": "stdout",
     "output_type": "stream",
     "text": [
      "Voce receberá 750.0 de bonus\n"
     ]
    }
   ],
   "source": [
    "meta = 20000\n",
    "vendas = 25000\n",
    "\n",
    "if vendas < meta:\n",
    "    print('Sem bonus')\n",
    "elif vendas >= (meta*2):\n",
    "    print(f'Voce receberá {vendas*0.07} de bonus')\n",
    "elif vendas >= meta:\n",
    "    print(f'Voce receberá {vendas*0.03} de bonus')\n"
   ]
  }
 ],
 "metadata": {
  "kernelspec": {
   "display_name": "Python 3",
   "language": "python",
   "name": "python3"
  },
  "language_info": {
   "codemirror_mode": {
    "name": "ipython",
    "version": 3
   },
   "file_extension": ".py",
   "mimetype": "text/x-python",
   "name": "python",
   "nbconvert_exporter": "python",
   "pygments_lexer": "ipython3",
   "version": "3.10.11"
  }
 },
 "nbformat": 4,
 "nbformat_minor": 2
}
