{
 "cells": [
  {
   "cell_type": "raw",
   "metadata": {},
   "source": [
    "AND  -> True se as duas condições forem verdadeiras\n",
    "OR -> True se ambas condições forem verdadeiras"
   ]
  },
  {
   "cell_type": "code",
   "execution_count": 5,
   "metadata": {},
   "outputs": [
    {
     "name": "stdout",
     "output_type": "stream",
     "text": [
      "Bonus do vendedor foi de 360.0\n"
     ]
    }
   ],
   "source": [
    "meta_vendedor = 10000\n",
    "meta_loja = 250000\n",
    "vendas_vendedor = 12000\n",
    "vendas_loja = 300000\n",
    "\n",
    "if meta_vendedor <= vendas_vendedor and meta_loja <= vendas_loja:\n",
    "     bonus = vendas_vendedor * 0.03\n",
    "     print(f'Bonus do vendedor foi de {bonus}')\n",
    "else:\n",
    "    print('Este funcionario não ganhou bonus')"
   ]
  },
  {
   "cell_type": "code",
   "execution_count": 11,
   "metadata": {},
   "outputs": [
    {
     "name": "stdout",
     "output_type": "stream",
     "text": [
      "Este funcionario não ganhou bonus\n"
     ]
    }
   ],
   "source": [
    "meta_vendedor = 10000\n",
    "meta_loja = 250000\n",
    "vendas_vendedor = 12000\n",
    "vendas_loja = 100000\n",
    "nota_vendedor = 8\n",
    "\n",
    "if (meta_vendedor <= vendas_vendedor and meta_loja <= vendas_loja) or nota_vendedor >= 9:\n",
    "     bonus = vendas_vendedor * 0.03\n",
    "     print(f'Bonus do vendedor foi de {bonus}')\n",
    "else:\n",
    "    print('Este funcionario não ganhou bonus')"
   ]
  }
 ],
 "metadata": {
  "kernelspec": {
   "display_name": "Python 3",
   "language": "python",
   "name": "python3"
  },
  "language_info": {
   "codemirror_mode": {
    "name": "ipython",
    "version": 3
   },
   "file_extension": ".py",
   "mimetype": "text/x-python",
   "name": "python",
   "nbconvert_exporter": "python",
   "pygments_lexer": "ipython3",
   "version": "3.10.11"
  }
 },
 "nbformat": 4,
 "nbformat_minor": 2
}
