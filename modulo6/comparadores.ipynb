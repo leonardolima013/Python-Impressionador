{
 "cells": [
  {
   "cell_type": "raw",
   "metadata": {},
   "source": [
    "==    igual\n",
    "!=    diferente\n",
    ">     maior que (>= maior ou igual)\n",
    "<     menor que (<= menor ou igual)\n",
    "in    texto existe dentro de outro texto \n",
    "not   verifica o contrário da comparação\n",
    "\n",
    "Obs: Se em alguma condição você não quiser fazer nada, você pode simplesmente escrever:\n",
    "pass"
   ]
  },
  {
   "cell_type": "code",
   "execution_count": 7,
   "metadata": {},
   "outputs": [
    {
     "name": "stdout",
     "output_type": "stream",
     "text": [
      "Os faturamento são difrentes\n"
     ]
    }
   ],
   "source": [
    "faturamento_loja1 = 2500\n",
    "faturamento_loja2 = 2200\n",
    "email = 'leonardobl2002gmail.com'\n",
    "\n",
    "if faturamento_loja1 == faturamento_loja2:\n",
    "    print('Os faturamentos são iguais')\n",
    "else:\n",
    "    print('Os faturamento são difrentes')"
   ]
  },
  {
   "cell_type": "code",
   "execution_count": 9,
   "metadata": {},
   "outputs": [
    {
     "name": "stdout",
     "output_type": "stream",
     "text": [
      "Email correto\n"
     ]
    }
   ],
   "source": [
    "if email != 'leonardobl2002@gmail.com':\n",
    "    print('Email correto')\n",
    "else:\n",
    "    print('Email incorreto')"
   ]
  },
  {
   "cell_type": "code",
   "execution_count": 20,
   "metadata": {},
   "outputs": [],
   "source": [
    "email_usuario = input('Insira seu email:')\n",
    "\n",
    "if (('@' in email_usuario) == False):\n",
    "    print('Email invalido')\n",
    "else:\n",
    "    pass"
   ]
  },
  {
   "cell_type": "code",
   "execution_count": 22,
   "metadata": {},
   "outputs": [
    {
     "name": "stdout",
     "output_type": "stream",
     "text": [
      "Email invalido\n"
     ]
    }
   ],
   "source": [
    "email_usuario = input('Insira seu email:')\n",
    "\n",
    "if not '@' in email_usuario:\n",
    "    print('Email invalido')\n",
    "else:\n",
    "    pass"
   ]
  }
 ],
 "metadata": {
  "kernelspec": {
   "display_name": "Python 3",
   "language": "python",
   "name": "python3"
  },
  "language_info": {
   "codemirror_mode": {
    "name": "ipython",
    "version": 3
   },
   "file_extension": ".py",
   "mimetype": "text/x-python",
   "name": "python",
   "nbconvert_exporter": "python",
   "pygments_lexer": "ipython3",
   "version": "3.10.11"
  }
 },
 "nbformat": 4,
 "nbformat_minor": 2
}
