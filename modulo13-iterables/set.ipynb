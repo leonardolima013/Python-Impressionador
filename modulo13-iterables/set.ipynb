{
 "cells": [
  {
   "cell_type": "code",
   "execution_count": 1,
   "metadata": {},
   "outputs": [
    {
     "name": "stdout",
     "output_type": "stream",
     "text": [
      "{'atum', 'arroz', 'macarrao', 'fejao', 'azeite'}\n"
     ]
    }
   ],
   "source": [
    "#\"Listas\" que nao tem valores duplicados\n",
    "\n",
    "set_produtos = {'arroz', 'fejao', 'macarrao', 'atum','azeite'}\n",
    "print(set_produtos)"
   ]
  },
  {
   "cell_type": "code",
   "execution_count": 6,
   "metadata": {},
   "outputs": [
    {
     "name": "stdout",
     "output_type": "stream",
     "text": [
      "14\n",
      "11\n",
      "11\n"
     ]
    }
   ],
   "source": [
    "cpf_clientes = ['762.196.080-97', '263.027.380-67', '827.363.930-40', '925.413.640-91', '870.565.160-33', '892.080.930-50', '462.126.030-81', '393.462.330-10', '393.462.330-10', '393.462.330-10', '988.305.810-11', '596.125.830-05', '596.125.830-05', '990.236.770-48']\n",
    "print(len(cpf_clientes))\n",
    "\n",
    "set_cpf_clientes = set(cpf_clientes)\n",
    "print(len(set_cpf_clientes))\n",
    "\n",
    "cpf_clientes_unicos = list(set_cpf_clientes)\n",
    "print(len(cpf_clientes_unicos))"
   ]
  }
 ],
 "metadata": {
  "kernelspec": {
   "display_name": "Python 3",
   "language": "python",
   "name": "python3"
  },
  "language_info": {
   "codemirror_mode": {
    "name": "ipython",
    "version": 3
   },
   "file_extension": ".py",
   "mimetype": "text/x-python",
   "name": "python",
   "nbconvert_exporter": "python",
   "pygments_lexer": "ipython3",
   "version": "3.10.11"
  }
 },
 "nbformat": 4,
 "nbformat_minor": 2
}
