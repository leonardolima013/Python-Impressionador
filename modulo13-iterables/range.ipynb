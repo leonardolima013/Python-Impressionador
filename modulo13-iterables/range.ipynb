{
 "cells": [
  {
   "cell_type": "code",
   "execution_count": null,
   "metadata": {},
   "outputs": [],
   "source": [
    "#range(tamano)\n",
    "#range(inicio,fim)\n",
    "#range(inicio,fim,passo)"
   ]
  },
  {
   "cell_type": "code",
   "execution_count": 2,
   "metadata": {},
   "outputs": [
    {
     "name": "stdout",
     "output_type": "stream",
     "text": [
      "arroz: 50 unidades em estoque\n",
      "feijao: 100 unidades em estoque\n",
      "macarrao: 20 unidades em estoque\n",
      "atum: 5 unidades em estoque\n",
      "azeite: 80 unidades em estoque\n"
     ]
    }
   ],
   "source": [
    "produtos=['arroz','feijao','macarrao','atum','azeite']\n",
    "estoque = [50,100,20,5,80]\n",
    "\n",
    "for i in range(5):\n",
    "    print(f'{produtos[i]}: {estoque[i]} unidades em estoque')"
   ]
  },
  {
   "cell_type": "code",
   "execution_count": 4,
   "metadata": {},
   "outputs": [
    {
     "name": "stdout",
     "output_type": "stream",
     "text": [
      "range(1, 10)\n",
      "1\n",
      "2\n",
      "3\n",
      "4\n",
      "5\n",
      "6\n",
      "7\n",
      "8\n",
      "9\n"
     ]
    }
   ],
   "source": [
    "print(range(1,10))\n",
    "\n",
    "for i in range(1,10):\n",
    "    print(i)"
   ]
  },
  {
   "cell_type": "code",
   "execution_count": 5,
   "metadata": {},
   "outputs": [
    {
     "name": "stdout",
     "output_type": "stream",
     "text": [
      "Funcionários Classe B\n",
      "Antônio: fez 1500 vendas\n",
      "João: fez 1200 vendas\n",
      "Francisco: fez 1111 vendas\n",
      "Ana: fez 1100 vendas\n",
      "Luiz: fez 999 vendas\n",
      "Paulo: fez 900 vendas\n",
      "Carlos: fez 880 vendas\n",
      "Manoel: fez 870 vendas\n",
      "Pedro: fez 800 vendas\n",
      "Francisca: fez 800 vendas\n",
      "Marcos: fez 450 vendas\n",
      "Raimundo: fez 400 vendas\n",
      "Sebastião: fez 300 vendas\n",
      "Antônia: fez 300 vendas\n",
      "Marcelo: fez 120 vendas\n",
      "Jorge: fez 90 vendas\n"
     ]
    }
   ],
   "source": [
    "funcionarios = ['Maria', 'José', 'Antônio', 'João', 'Francisco', 'Ana', 'Luiz', 'Paulo', 'Carlos', 'Manoel', 'Pedro', 'Francisca', 'Marcos', 'Raimundo', 'Sebastião', 'Antônia', 'Marcelo', 'Jorge', 'Márcia', 'Geraldo']\n",
    "vendas = [2750, 1900, 1500, 1200, 1111, 1100, 999, 900, 880, 870, 800, 800, 450, 400, 300, 300, 120, 90, 80, 70]\n",
    "\n",
    "print('Funcionários Classe B')\n",
    "for i in range(2, 18):\n",
    "    print('{}: fez {} vendas'.format(funcionarios[i], vendas[i]))"
   ]
  },
  {
   "cell_type": "code",
   "execution_count": 7,
   "metadata": {},
   "outputs": [
    {
     "name": "stdout",
     "output_type": "stream",
     "text": [
      "range(0, 10, 2)\n",
      "0\n",
      "2\n",
      "4\n",
      "6\n",
      "8\n"
     ]
    }
   ],
   "source": [
    "print(range(0,10,2))\n",
    "\n",
    "for i in range(0,10,2):\n",
    "    print(i)"
   ]
  }
 ],
 "metadata": {
  "kernelspec": {
   "display_name": "Python 3",
   "language": "python",
   "name": "python3"
  },
  "language_info": {
   "codemirror_mode": {
    "name": "ipython",
    "version": 3
   },
   "file_extension": ".py",
   "mimetype": "text/x-python",
   "name": "python",
   "nbconvert_exporter": "python",
   "pygments_lexer": "ipython3",
   "version": "3.10.11"
  }
 },
 "nbformat": 4,
 "nbformat_minor": 2
}
