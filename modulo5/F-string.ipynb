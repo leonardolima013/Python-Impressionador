{
 "cells": [
  {
   "cell_type": "code",
   "execution_count": 2,
   "metadata": {},
   "outputs": [
    {
     "name": "stdout",
     "output_type": "stream",
     "text": [
      "O faturamento foi de 1500 e o lucro de 1000\n",
      "O faturamento foi de 1500 e o lucro de 1000\n"
     ]
    }
   ],
   "source": [
    "faturamento = 1500\n",
    "custo = 500\n",
    "lucro = faturamento - custo\n",
    "\n",
    "#com format\n",
    "print('O faturamento foi de {} e o lucro de {}'.format(faturamento,lucro))\n",
    "\n",
    "#com F-String\n",
    "print(f'O faturamento foi de {faturamento} e o lucro de {lucro}')"
   ]
  },
  {
   "cell_type": "code",
   "execution_count": 5,
   "metadata": {},
   "outputs": [
    {
     "name": "stdout",
     "output_type": "stream",
     "text": [
      "O lucro foi de 2282\n"
     ]
    },
    {
     "ename": "",
     "evalue": "",
     "output_type": "error",
     "traceback": [
      "\u001b[1;31mThe Kernel crashed while executing code in the the current cell or a previous cell. Please review the code in the cell(s) to identify a possible cause of the failure. Click <a href='https://aka.ms/vscodeJupyterKernelCrash'>here</a> for more info. View Jupyter <a href='command:jupyter.viewOutput'>log</a> for further details."
     ]
    }
   ],
   "source": [
    "#Mudança de tipo de variavel\n",
    "\n",
    "faturamento = int(input('Insira o Faturamento'))\n",
    "custo = int(input('Insira o custo'))\n",
    "lucro = faturamento - custo\n",
    "\n",
    "print(type(faturamento))\n",
    "print(type(custo))\n",
    "\n",
    "print(f'O lucro foi de {lucro}')"
   ]
  }
 ],
 "metadata": {
  "kernelspec": {
   "display_name": "Python 3",
   "language": "python",
   "name": "python3"
  },
  "language_info": {
   "codemirror_mode": {
    "name": "ipython",
    "version": 3
   },
   "file_extension": ".py",
   "mimetype": "text/x-python",
   "name": "python",
   "nbconvert_exporter": "python",
   "pygments_lexer": "ipython3",
   "version": "3.10.11"
  }
 },
 "nbformat": 4,
 "nbformat_minor": 2
}
